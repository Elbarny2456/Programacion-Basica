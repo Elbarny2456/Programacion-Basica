{
  "metadata": {
    "kernelspec": {
      "name": "python",
      "display_name": "Python (Pyodide)",
      "language": "python"
    },
    "language_info": {
      "codemirror_mode": {
        "name": "python",
        "version": 3
      },
      "file_extension": ".py",
      "mimetype": "text/x-python",
      "name": "python",
      "nbconvert_exporter": "python",
      "pygments_lexer": "ipython3",
      "version": "3.8"
    }
  },
  "nbformat_minor": 5,
  "nbformat": 4,
  "cells": [
    {
      "id": "205e27c1-1c6c-46d9-a5fa-af6ea8ceeeec",
      "cell_type": "code",
      "source": "#de float a int\na = 5.9\nb = int(a)\nprint(b) \nprint(type(b))",
      "metadata": {
        "trusted": true
      },
      "outputs": [
        {
          "name": "stdout",
          "output_type": "stream",
          "text": "5\n<class 'int'>\n"
        }
      ],
      "execution_count": 5
    },
    {
      "id": "860f259f-e64e-4ac4-805f-f13606fda27c",
      "cell_type": "code",
      "source": "# convertir de int a float\nx = 5\ny = float(x)\nprint(y) \nprint(type(y))",
      "metadata": {
        "trusted": true
      },
      "outputs": [
        {
          "name": "stdout",
          "output_type": "stream",
          "text": "5.0\n<class 'float'>\n"
        }
      ],
      "execution_count": 27
    },
    {
      "id": "d3832f74-607f-433a-8ca7-8f7fe376f190",
      "cell_type": "code",
      "source": "# str a int\ns = \"123\"\nn = int(s)\nprint(n) \nprint(type(n)) \nn + 2\n",
      "metadata": {
        "trusted": true
      },
      "outputs": [
        {
          "name": "stdout",
          "output_type": "stream",
          "text": "123\n<class 'int'>\n"
        },
        {
          "execution_count": 6,
          "output_type": "execute_result",
          "data": {
            "text/plain": "125"
          },
          "metadata": {}
        }
      ],
      "execution_count": 6
    },
    {
      "id": "7704fc55-da28-4e34-aef3-39275086c12b",
      "cell_type": "code",
      "source": "# de int a str\nnum = 456\ntexto = str(num)\nprint(texto)\nprint(type(texto))\ntexto + 4",
      "metadata": {
        "trusted": true
      },
      "outputs": [
        {
          "name": "stdout",
          "output_type": "stream",
          "text": "456\n<class 'str'>\n"
        },
        {
          "ename": "<class 'TypeError'>",
          "evalue": "can only concatenate str (not \"int\") to str",
          "traceback": [
            "\u001b[0;31m---------------------------------------------------------------------------\u001b[0m",
            "\u001b[0;31mTypeError\u001b[0m                                 Traceback (most recent call last)",
            "Cell \u001b[0;32mIn[4], line 6\u001b[0m\n\u001b[1;32m      4\u001b[0m \u001b[38;5;28mprint\u001b[39m(texto)\n\u001b[1;32m      5\u001b[0m \u001b[38;5;28mprint\u001b[39m(\u001b[38;5;28mtype\u001b[39m(texto))\n\u001b[0;32m----> 6\u001b[0m \u001b[43mtexto\u001b[49m\u001b[43m \u001b[49m\u001b[38;5;241;43m+\u001b[39;49m\u001b[43m \u001b[49m\u001b[38;5;241;43m4\u001b[39;49m\n",
            "\u001b[0;31mTypeError\u001b[0m: can only concatenate str (not \"int\") to str"
          ],
          "output_type": "error"
        }
      ],
      "execution_count": 4
    },
    {
      "id": "5524ce13-ffc0-4272-b1ff-d740e2c08416",
      "cell_type": "code",
      "source": "#Mencione las diferencias que observa\n''' que se quitan los decimales al hacerlo entero y al hacerlo flotante puedes agregrar decimales'''",
      "metadata": {
        "trusted": true
      },
      "outputs": [],
      "execution_count": null
    },
    {
      "id": "723d0e22-9936-46ac-a979-5bf05d81738c",
      "cell_type": "code",
      "source": "#convertir string a número para poder hacer operaciones\nentrada = (\"1\") \nnumero = int(entrada)\ndoble = numero * 2\nprint(f\"El doble es: {doble}\")\n\n",
      "metadata": {
        "trusted": true
      },
      "outputs": [
        {
          "name": "stdout",
          "output_type": "stream",
          "text": "El doble es: 2\n"
        }
      ],
      "execution_count": 22
    },
    {
      "id": "b4539ca4-65fb-4af1-baea-f91d1f535351",
      "cell_type": "code",
      "source": "# string a datos\ndatos = [\"1\", \"2\", \"3\"]\nnumeros = list(map(int, datos))\nprint(numeros) ",
      "metadata": {
        "trusted": true
      },
      "outputs": [
        {
          "name": "stdout",
          "output_type": "stream",
          "text": "[1, 2, 3]\n"
        }
      ],
      "execution_count": 24
    },
    {
      "id": "b4fd2ab5-fa6c-49c3-a55e-076175c428c2",
      "cell_type": "code",
      "source": "''' Realiza los siguientes programas y súbelos a github.\n1. al usuario una temperatura en Celsius (como string) y conviértela a float. Luego calcula y muestra la temperatura en Fahrenheit con esta fórmula:\nFahrenheit = (Celsius × 9/5) + 32\n\n2. Pide un número al usuario (puede ser entero o decimal), conviértelo a string y muestra cuántos caracteres\n''' ",
      "metadata": {
        "trusted": true
      },
      "outputs": [
        {
          "execution_count": 26,
          "output_type": "execute_result",
          "data": {
            "text/plain": "' Realiza los siguientes programas y súbelos a github.\\n1. al usuario una temperatura en Celsius (como string) y conviértela a float. Luego calcula y muestra la temperatura en Fahrenheit con esta fórmula:\\nFahrenheit = (Celsius × 9/5) + 32\\n\\n2. Pide un número al usuario (puede ser entero o decimal), conviértelo a string y muestra cuántos caracteres.\\n'"
          },
          "metadata": {}
        }
      ],
      "execution_count": 26
    },
    {
      "id": "ae26c86e-d132-4384-9ca8-ee102b39aed5",
      "cell_type": "code",
      "source": "\ncelsius_str = 100\ncelsius = float(celsius_str)\nfahrenheit = (celsius * 9/5) + 32\nprint(f\"La temperatura en Fahrenheit es: {fahrenheit:.2f}\")",
      "metadata": {
        "trusted": true,
        "scrolled": true
      },
      "outputs": [
        {
          "name": "stdout",
          "output_type": "stream",
          "text": "La temperatura en Fahrenheit es: 212.00\n"
        }
      ],
      "execution_count": 1
    },
    {
      "id": "7c1e7b0f-0ac5-45ec-a10d-866be2863cd3",
      "cell_type": "code",
      "source": "\nnumero = input(\"Introduce un número: \")\n\nnumero_str = str(numero)\n\ncantidad_caracteres = len(numero_str)\n\nprint(f\"El número  tiene {cantidad_caracteres} caracteres.\")",
      "metadata": {
        "trusted": true
      },
      "outputs": [
        {
          "name": "stdout",
          "output_type": "stream",
          "text": "El número  tiene 61 caracteres.\n"
        },
        {
          "output_type": "stream",
          "name": "stdin",
          "text": "Introduce un número:  100\n"
        }
      ],
      "execution_count": 11
    }
  ]
}